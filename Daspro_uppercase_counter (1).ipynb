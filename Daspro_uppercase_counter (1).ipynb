{
 "cells": [
  {
   "cell_type": "code",
   "execution_count": 3,
   "id": "096db9bc-1b25-44b2-9519-06e7daf68c84",
   "metadata": {},
   "outputs": [],
   "source": [
    "# Membuat dan menyimpan modul uppercase_counter.py\n",
    "with open(\"uppercase_counter.py\", \"w\") as file:\n",
    "    file.write(\"\"\"\n",
    "def count_uppercase_letters(text):\n",
    "    count = 0\n",
    "    for char in text:\n",
    "        if char.isupper():\n",
    "            count += 1\n",
    "    return count\n",
    "\"\"\")\n"
   ]
  }
 ],
 "metadata": {
  "kernelspec": {
   "display_name": "Python 3 (ipykernel)",
   "language": "python",
   "name": "python3"
  },
  "language_info": {
   "codemirror_mode": {
    "name": "ipython",
    "version": 3
   },
   "file_extension": ".py",
   "mimetype": "text/x-python",
   "name": "python",
   "nbconvert_exporter": "python",
   "pygments_lexer": "ipython3",
   "version": "3.11.7"
  }
 },
 "nbformat": 4,
 "nbformat_minor": 5
}
